{
 "cells": [
  {
   "cell_type": "code",
   "execution_count": null,
   "metadata": {},
   "outputs": [],
   "source": [
    "import numpy as np\n",
    "import math"
   ]
  },
  {
   "cell_type": "markdown",
   "metadata": {},
   "source": [
    "# \n",
    "\n",
    "### Introduction\n",
    "\n",
    "This is a report to understand and simulate factors that could possibly predict the time it takes a runner to complete a marathon. A marathon is about 42.2 km (about 26.2 miles). It has long been a challenge for humans to complete a marathon. The name Marathon comes from the legend of Philippides, the Greek messenger. As the story goes he was sent to Athens to announce the defeat of the Persians after the Battle of Marathon (a battle he actually fought in). He ran the distance from Marathon to Athens from Marathon without stopping, burst into the assembly, exclaimed \"we have won!\", then keeled over and died (a little morbid hostory for you). [https://en.wikipedia.org/wiki/Marathon#Origin]\n",
    "\n",
    "Marathon races are acient but the distance wasn't set until the 20th Century, in Athens at the 1896 Olympics. This legend inspired the birth of this ludicrous endevour and people have been training for marathons ever since. [https://www.history.com/news/why-is-a-marathon-26-2-miles#:~:text=The%20idea%20for%20the%20modern,After%20making%20his%20announcement%2C%20the]\n",
    "\n",
    "It is still very hard to get an accurate prediction of a runners finishing time because of the sheer number of variables involved. However, from my research, a few attemps have been made to study this and to predict finishing times. \n",
    "\n",
    "### Method\n",
    "\n",
    "#### The different contributing factors\n",
    "\n",
    "There are many factors to be taken into consideration when it comes to predict race day preformance. There are two main categories that are frequented when reading documentation on the subject.\n",
    "\n",
    "##### Training measurements\n",
    "\n",
    "The list is endless in terms of training measurements from number of runs per week to the VO2 max (the maximum amount of oxygen your body can utilize during exercise). Most studies tend to focus on the measurements that the average person could measure. These being the number of runs, the average mileage, the average pace and so on. It is also prudent to point out that VO2 could also be consider in our next category.\n",
    "\n",
    "\n",
    "##### Anthropometry measurements\n",
    "\n",
    "Again the list is comprehensive. Anthropometry refers to the measurement of the human individual. So length of limbs, diameter of muscles and like above VO2 max are some of many measurements to be considered.\n",
    "\n",
    "Like I mentioned above there are not a lot of studies done on the subjuect. I am interested in the correlation between training and preformance as a goal of mine is to run a marathon and I have no control over my current anthropometry measurements (only by that of training can I change them) so I have decided to focus this analysis on the former group.\n",
    "\n",
    "### Variables\n",
    "\n",
    "#### Predictors\n",
    "\n",
    "The training measurements that appear most often are mean weekly distance ran and mean training pace. They appear in a study on *Prediction of marathon performance time on the basis of training indices* [https://www.researchgate.net/publication/262686102_Prediction_of_marathon_performance_time_on_the_basis_of_training_indices], Predictor Variables for Marathon Race Time in Recreational Female Runners [https://www.ncbi.nlm.nih.gov/pmc/articles/PMC3426727/], and *An empirical study of race times in recreational endurance runners* [https://bmcsportsscimedrehabil.biomedcentral.com/articles/10.1186/s13102-016-0052-y].\n",
    "\n",
    "Giovanni Tandas study on the *Prediction of marathon performance time on the basis of training indices* also shows that \n",
    "\n",
    "#### Outcomes\n",
    "\n",
    "The most interesting variable is the time taken to complete a marathon. This is also dpendent on the pace a runner has throughout the race. \n",
    "\n",
    "All variables are non-negative real numbers.\n",
    "\n",
    "- Mean weekly distance is to one decimal place and is measured in kilometers per week (km/week).\n",
    "- Mean training pace and race pace is to one decimal place and is measured in seconds per kilometer (sec/kilometer).\n",
    "- Finishing times are whole numbers measured in minutes (min).\n",
    "\n",
    "The assumption of normality was met, as assessed by a Q-Q plot in [https://www.ncbi.nlm.nih.gov/pmc/articles/PMC7449326/#b19-ijes-13-6-1132%5D] for these (and other measurements).\n",
    "\n",
    "There fore I can use the data from the tables in Giovanni Tandas study and the `numpy.normal()` function to create average training pace and kilometers ran per week.\n",
    "\n",
    "![RUA Runner Data](imgs/rua_runner_data_2.png)\n",
    "\n",
    "Table containing the standard deviatin and the mean of training pace and kilometers ran per week. [https://rua.ua.es/dspace/bitstream/10045/18930/1/jhse_Vol_VI_N_III_511-520.pdf]"
   ]
  },
  {
   "cell_type": "code",
   "execution_count": null,
   "metadata": {},
   "outputs": [],
   "source": [
    "#Set number of runners\n",
    "no_of_runners = 100\n",
    "\n",
    "# Set training pace data \n",
    "train_pace_mean = 284.6\n",
    "train_pace_std = 18.1\n",
    "P = np.random.normal(train_pace_mean, train_pace_std, no_of_runners)\n",
    "\n",
    "# Set kilometers per week data \n",
    "km_per_week_mean = 65.9\n",
    "km_per_week_std = 15.9\n",
    "K = np.random.normal(km_per_week_mean, km_per_week_std, no_of_runners)"
   ]
  },
  {
   "cell_type": "markdown",
   "metadata": {},
   "source": [
    "Tandas study lead to to a formula that show a corrilation between race day pace and the above parameters. Knowing that we can use the two random sets above to produce the paces of each runner"
   ]
  },
  {
   "cell_type": "code",
   "execution_count": null,
   "metadata": {},
   "outputs": [],
   "source": [
    "# Set empty list to hold set\n",
    "paces = []\n",
    "\n",
    "# loop over lists to produce each pace with the formula\n",
    "for i in range(0, len(K)):\n",
    "    pace = [17.1 + 140.0*np.exp(-0.0053*K[i]) + 0.55 * P[i]]\n",
    "    paces.append(pace)"
   ]
  },
  {
   "cell_type": "markdown",
   "metadata": {},
   "source": [
    "Then use the distance of a marathon to calculate the time it took them in hours."
   ]
  },
  {
   "cell_type": "code",
   "execution_count": null,
   "metadata": {},
   "outputs": [],
   "source": [
    "# marathon in km\n",
    "dist = 42.195\n",
    "\n",
    "#times = (42.195*np.array(paces))/3600\n",
    "times = (42.195*np.array(paces))/60"
   ]
  },
  {
   "cell_type": "markdown",
   "metadata": {},
   "source": []
  },
  {
   "cell_type": "code",
   "execution_count": null,
   "metadata": {},
   "outputs": [],
   "source": [
    "np.std(times), np.mean(times)\n",
    "\n",
    "racepace_mean = 271.8\n",
    "racepace_std = 17.7"
   ]
  },
  {
   "cell_type": "code",
   "execution_count": 107,
   "metadata": {},
   "outputs": [
    {
     "data": {
      "text/plain": [
       "236.57061469603917"
      ]
     },
     "execution_count": 107,
     "metadata": {},
     "output_type": "execute_result"
    }
   ],
   "source": [
    "pace"
   ]
  },
  {
   "cell_type": "code",
   "execution_count": 108,
   "metadata": {},
   "outputs": [
    {
     "data": {
      "text/plain": [
       "2.7728047464164924"
      ]
     },
     "execution_count": 108,
     "metadata": {},
     "output_type": "execute_result"
    }
   ],
   "source": [
    "(42.195*pace)/3600"
   ]
  },
  {
   "cell_type": "code",
   "execution_count": 194,
   "metadata": {},
   "outputs": [
    {
     "data": {
      "text/plain": [
       "(12.617093170816126, 262.07441740830785)"
      ]
     },
     "execution_count": 194,
     "metadata": {},
     "output_type": "execute_result"
    }
   ],
   "source": [
    "no_of_runners = 1000\n",
    "\n",
    "paces = []\n",
    "train_pace_mean = 284.6\n",
    "train_pace_std = 18.1\n",
    "P = np.random.normal(train_pace_mean, train_pace_std, no_of_runners)\n",
    "\n",
    "km_per_week_mean = 87\n",
    "km_per_week_std = 15.2\n",
    "K = np.random.normal(km_per_week_mean, km_per_week_std, no_of_runners)\n",
    "\n",
    "std = 0\n",
    "mean = 0\n",
    "\n",
    "racepace_mean = 271.8\n",
    "racepace_std = 17.7\n",
    "\n",
    "#while () or ():\n",
    "for i in range(0, len(K)):\n",
    "    pace = [17.1 + 140.0*np.exp(-0.0053*K[i]) + 0.55 * P[i]]\n",
    "    #print(pace)\n",
    "    paces.append(pace)\n",
    "\n",
    "np.std(paces), np.mean(paces)"
   ]
  },
  {
   "cell_type": "code",
   "execution_count": null,
   "metadata": {},
   "outputs": [],
   "source": []
  },
  {
   "cell_type": "code",
   "execution_count": null,
   "metadata": {},
   "outputs": [],
   "source": []
  },
  {
   "cell_type": "code",
   "execution_count": 308,
   "metadata": {},
   "outputs": [
    {
     "data": {
      "text/plain": [
       "(9.09297075036257, 192.31237908742426)"
      ]
     },
     "execution_count": 308,
     "metadata": {},
     "output_type": "execute_result"
    }
   ],
   "source": [
    "# https://rua.ua.es/dspace/bitstream/10045/18930/1/jhse_Vol_VI_N_III_511-520.pdf\n",
    "\n",
    "no_of_runners = 1000\n",
    "\n",
    "train_pace_mean = 284.6\n",
    "train_pace_std = 18.1\n",
    "P = np.random.normal(train_pace_mean, train_pace_std, no_of_runners)\n",
    "\n",
    "km_per_week_mean = 65.9\n",
    "km_per_week_std = 15.9\n",
    "K = np.random.normal(km_per_week_mean, km_per_week_std, no_of_runners)\n",
    "\n",
    "std = 0\n",
    "mean = 0\n",
    "\n",
    "racepace_mean = 271.8\n",
    "racepace_std = 17.7\n",
    "\n",
    "paces = []\n",
    "\n",
    "#while () or ():\n",
    "for i in range(0, len(K)):\n",
    "    pace = [17.1 + 140.0*np.exp(-0.0053*K[i]) + 0.55 * P[i]]\n",
    "    #print(pace)\n",
    "    paces.append(pace)\n",
    "    \n",
    "# marathon in km\n",
    "dist = 42.195\n",
    "\n",
    "#times = (42.195*np.array(paces))/3600\n",
    "times = (42.195*np.array(paces))/60\n",
    "\n",
    "np.std(times), np.mean(times)"
   ]
  },
  {
   "cell_type": "code",
   "execution_count": 299,
   "metadata": {},
   "outputs": [
    {
     "name": "stdout",
     "output_type": "stream",
     "text": [
      "10.489155090001034 120.04610579438587\n",
      "226.5030567824415 336.81767457514474\n"
     ]
    }
   ],
   "source": [
    "P = np.random.normal(train_pace_mean, train_pace_std, no_of_runners)\n",
    "K = np.random.normal(km_per_week_mean, km_per_week_std, no_of_runners)\n",
    "\n",
    "print( K.min(), K.max())\n",
    "print(P.min(), P.max())"
   ]
  },
  {
   "cell_type": "code",
   "execution_count": 224,
   "metadata": {},
   "outputs": [
    {
     "data": {
      "text/plain": [
       "(113.18422485834193, 23.447358767523752)"
      ]
     },
     "execution_count": 224,
     "metadata": {},
     "output_type": "execute_result"
    }
   ],
   "source": [
    "K.max(), K.min()"
   ]
  },
  {
   "cell_type": "code",
   "execution_count": 313,
   "metadata": {},
   "outputs": [
    {
     "data": {
      "text/plain": [
       "(18.947311426185795, 218.2373411978223)"
      ]
     },
     "execution_count": 313,
     "metadata": {},
     "output_type": "execute_result"
    }
   ],
   "source": [
    "# file:///C:/Users/seanp/Downloads/2015OAJSM_Reprint.pdf\n",
    "no_of_runners = 126\n",
    "\n",
    "train_pace_mean = 330\n",
    "train_pace_std = 41\n",
    "P = np.random.normal(train_pace_mean, train_pace_std, no_of_runners)\n",
    "\n",
    "km_per_week_mean = 44.7\n",
    "km_per_week_std = 24.7\n",
    "K = np.random.normal(km_per_week_mean, km_per_week_std, no_of_runners)\n",
    "\n",
    "racepace_mean = 271.8\n",
    "racepace_std = 17.7\n",
    "\n",
    "paces = []\n",
    "\n",
    "#while () or ():\n",
    "for i in range(0, len(K)):\n",
    "    pace = [17.1 + 140.0*np.exp(-0.0053*K[i]) + 0.55 * P[i]]\n",
    "    #print(pace)\n",
    "    paces.append(pace)\n",
    "    \n",
    "# marathon in km\n",
    "dist = 42.195\n",
    "\n",
    "#times = (42.195*np.array(paces))/3600\n",
    "times = (42.195*np.array(paces))/60\n",
    "\n",
    "# 32, 232\n",
    "np.std(times), np.mean(times)"
   ]
  },
  {
   "cell_type": "code",
   "execution_count": 317,
   "metadata": {},
   "outputs": [
    {
     "data": {
      "text/plain": [
       "371.13402061855675"
      ]
     },
     "execution_count": 317,
     "metadata": {},
     "output_type": "execute_result"
    }
   ],
   "source": [
    "m = 9.7 * 3600\n",
    "m\n",
    "\n",
    "9.7/3600\n",
    "\n",
    "3600/9.7"
   ]
  },
  {
   "cell_type": "code",
   "execution_count": 145,
   "metadata": {},
   "outputs": [
    {
     "data": {
      "text/plain": [
       "261.77863606643535"
      ]
     },
     "execution_count": 145,
     "metadata": {},
     "output_type": "execute_result"
    }
   ],
   "source": [
    "no_of_runners = 1000\n",
    "\n",
    "#km/hr to sec/km\n",
    "\n",
    "m = 3600/9.7\n",
    "std = 3600/41\n",
    "\n",
    "train_pace_mean = m\n",
    "train_pace_std = std\n",
    "P = np.random.normal(train_pace_mean, train_pace_std, no_of_runners)\n",
    "\n",
    "km_per_week_mean = 34.6\n",
    "km_per_week_std = 12.0\n",
    "K = np.random.normal(km_per_week_mean, km_per_week_std, no_of_runners)\n",
    "\n",
    "std = 0\n",
    "mean = 0\n",
    "\n",
    "racepace_mean = 271.8\n",
    "racepace_std = 17.7\n",
    "\n",
    "paces = []\n",
    "\n",
    "#while () or ():\n",
    "for i in range(0, len(K)):\n",
    "    pace = [17.1 + 140.0*np.exp(-0.0053*K[i]) + 0.55 * P[i]]\n",
    "    #print(pace)\n",
    "    paces.append(pace)\n",
    "    \n",
    "# marathon in km\n",
    "dist = 42.195\n",
    "\n",
    "#times = (42.195*np.array(paces))/3600\n",
    "times = (42.195*np.array(paces))/60\n",
    "\n",
    "# 32, 232\n",
    "np.std(times), np.mean(times)"
   ]
  },
  {
   "cell_type": "code",
   "execution_count": null,
   "metadata": {},
   "outputs": [],
   "source": []
  },
  {
   "cell_type": "code",
   "execution_count": 6,
   "metadata": {},
   "outputs": [],
   "source": [
    "fts = np.random.lognormal(ft_mean, ft_std, 100)"
   ]
  },
  {
   "cell_type": "code",
   "execution_count": 13,
   "metadata": {},
   "outputs": [],
   "source": [
    "racepace_mean = 271.8\n",
    "racepace_std = 17.7"
   ]
  },
  {
   "cell_type": "code",
   "execution_count": 69,
   "metadata": {},
   "outputs": [],
   "source": [
    "paces = np.random.normal(racepace_mean, racepace_std, 100)"
   ]
  },
  {
   "cell_type": "code",
   "execution_count": 70,
   "metadata": {},
   "outputs": [
    {
     "data": {
      "text/plain": [
       "array([3.28305444, 3.24542217, 3.44390015, 2.91448153, 3.16569567,\n",
       "       2.86055087, 3.15966298, 3.02599841, 3.50599335, 3.10997415,\n",
       "       2.92904666, 3.28212323, 3.06249459, 3.6432785 , 3.28314128,\n",
       "       3.2171819 , 3.35654216, 2.98185151, 2.80288573, 3.09749473,\n",
       "       3.13745304, 3.43337169, 3.3369216 , 3.46636932, 3.21268824,\n",
       "       3.57320435, 3.32763882, 3.23934542, 3.48748005, 3.1823092 ,\n",
       "       3.13600632, 3.18235551, 3.54423152, 3.19527646, 3.46422884,\n",
       "       3.22939468, 3.254654  , 3.38216789, 2.99062351, 3.10935863,\n",
       "       3.42988473, 3.48046137, 3.37086604, 3.13966477, 3.40915095,\n",
       "       3.04799169, 3.2288212 , 3.44099476, 3.4901211 , 3.32036324,\n",
       "       3.27948718, 3.05894806, 3.16486332, 3.23606999, 3.21180422,\n",
       "       3.04097767, 2.94951919, 3.05285309, 3.16822116, 3.4604193 ,\n",
       "       3.53972889, 3.16270406, 2.78228168, 3.04403624, 3.05070379,\n",
       "       3.38110425, 3.24158262, 3.15266275, 3.39273902, 3.37087438,\n",
       "       3.15144949, 3.21589985, 3.48132401, 3.17867078, 3.40998575,\n",
       "       3.07824702, 2.99421146, 3.45863629, 3.12469753, 2.91462819,\n",
       "       3.39439255, 3.29150789, 3.19801357, 3.4194323 , 3.081084  ,\n",
       "       2.88767677, 3.15442586, 2.99000747, 2.78268491, 3.33790399,\n",
       "       3.64331219, 3.38605698, 2.93118508, 2.7325721 , 3.11147837,\n",
       "       3.19451752, 2.95815981, 2.92657558, 3.12340362, 3.44150763])"
      ]
     },
     "execution_count": 70,
     "metadata": {},
     "output_type": "execute_result"
    }
   ],
   "source": [
    "(42.195*paces)/3600"
   ]
  },
  {
   "cell_type": "code",
   "execution_count": 65,
   "metadata": {},
   "outputs": [],
   "source": [
    "pace = np.random.normal(racepace_mean, racepace_std)"
   ]
  },
  {
   "cell_type": "code",
   "execution_count": 66,
   "metadata": {},
   "outputs": [],
   "source": [
    "secs = 42.195*pace"
   ]
  },
  {
   "cell_type": "code",
   "execution_count": 67,
   "metadata": {},
   "outputs": [],
   "source": [
    "mins = secs/60"
   ]
  },
  {
   "cell_type": "code",
   "execution_count": 68,
   "metadata": {},
   "outputs": [
    {
     "data": {
      "text/plain": [
       "3.066311602418703"
      ]
     },
     "execution_count": 68,
     "metadata": {},
     "output_type": "execute_result"
    }
   ],
   "source": [
    "mins/60"
   ]
  },
  {
   "cell_type": "code",
   "execution_count": 71,
   "metadata": {},
   "outputs": [
    {
     "data": {
      "text/plain": [
       "3.183333333333333"
      ]
     },
     "execution_count": 71,
     "metadata": {},
     "output_type": "execute_result"
    }
   ],
   "source": [
    "191/60"
   ]
  },
  {
   "cell_type": "code",
   "execution_count": null,
   "metadata": {},
   "outputs": [],
   "source": [
    "# 200 runners\n",
    "\n",
    "\n",
    "\n",
    "# target time (tart)\n",
    "ncbi_tar_mean = 248\n",
    "ncbi_tar_std = 46\n",
    "\n",
    "# predicted_finishing_time (pft) mins\n",
    "ncbi_pft_mean = 252\n",
    "ncbi_pft_std = 40\n",
    "\n",
    "# fft - tar difference\n",
    "ncbi_tdiff_mean = 4\n",
    "ncbi_tdiff_std = 29\n",
    "\n",
    "# N\n",
    "ncbi_N = [4.1, 7.2, 0, 46]\n",
    "ncbi_N_mean = 4.1\n",
    "ncbi_N_std = 7.2\n",
    "ncbi_N_min = 0\n",
    "ncbi_N_max = 46\n",
    "\n",
    "# kg/m2\n",
    "ncbi_BMI = [24.3, 3.3, 17.5, 36.9]\n",
    "ncbi_BMI_mean = 24.3\n",
    "ncbi_BMI_std = 3.3\n",
    "ncbi_BMI_min = 17.5\n",
    "ncbi_BMI_max = 36.9\n",
    "\n",
    "# in years\n",
    "ncbi_age = [40, 10, 19, 75]\n",
    "ncbi_age_mean = 40\n",
    "ncbi_age_std = 10\n",
    "ncbi_age_min = 19\n",
    "ncbi_age_max = 75\n",
    "\n",
    "# in m\n",
    "ncbi_height = [1.7, 0.1, 1.4, 1.9]\n",
    "ncbi_height_mean = 1.7\n",
    "ncbi_height_std = 0.1\n",
    "ncbi_height_min = 1.4\n",
    "ncbi_height_max = 1.9\n",
    "\n",
    "# in kg \n",
    "ncbi_weight = [72, 11, 45, 108]\n",
    "ncbi_weight_mean = 72\n",
    "ncbi_weight_std = 11\n",
    "ncbi_weight_min = 45\n",
    "ncbi_weight_max = 108\n",
    "\n",
    "# in min\n",
    "ncbi_finishing_time = [259, 51, 169, 427]\n",
    "ncbi_finishing_time_mean = 259\n",
    "ncbi_finishing_time_std = 51\n",
    "ncbi_finishing_time_min = 169\n",
    "ncbi_finishing_time_max = 427\n",
    "\n",
    "# pace variance\n",
    "ncbi_pvar_mean = 4.7\n",
    "ncbi_pvar_std = 4.6"
   ]
  },
  {
   "cell_type": "markdown",
   "metadata": {},
   "source": []
  },
  {
   "cell_type": "markdown",
   "metadata": {},
   "source": [
    "Finishing times as log normal dist https://www.researchgate.net/figure/Distribution-of-Marathon-Finishing-Times-n-9-789-093_fig2_301571201"
   ]
  },
  {
   "cell_type": "markdown",
   "metadata": {},
   "source": [
    "The assumption of normality was met, as assessed by a Q-Q plot.  https://www.ncbi.nlm.nih.gov/pmc/articles/PMC7449326/#b19-ijes-13-6-1132%5D\n",
    "\n",
    "https://www.google.com/search?q=assumption+of+normality&rlz=1C1CHBF_enIE917IE917&oq=assumption+of+normality&aqs=chrome..69i57&sourceid=chrome&ie=UTF-8"
   ]
  },
  {
   "cell_type": "markdown",
   "metadata": {},
   "source": [
    "[https://bmcsportsscimedrehabil.biomedcentral.com/articles/10.1186/s13102-016-0052-y]\n",
    "[https://www.ncbi.nlm.nih.gov/pmc/articles/PMC7449326/]\n",
    "[https://rua.ua.es/dspace/bitstream/10045/18930/1/jhse_Vol_VI_N_III_511-520.pdf]\n",
    "[https://www.google.com/search?safe=active&rlz=1C1CHBF_enIE917IE917&sxsrf=ALeKk03Ylj7ATv-5NpVukDg9tv1VloAY-g%3A1608134608390&ei=0C_aX9SXF8XoxgPuq7WoAw&q=what+affects+a+marathon+time+a+study&oq=what+affects+a+marathon+time+a+study&gs_lcp=CgZwc3ktYWIQAzIFCCEQoAE6BAgAEEc6CAghEBYQHRAeUKGrBVilwAVghcMFaABwAngAgAFxiAG4BZIBAzYuMpgBAKABAaoBB2d3cy13aXrIAQjAAQE&sclient=psy-ab&ved=0ahUKEwjUv9Wg8NLtAhVFtHEKHe5VDTUQ4dUDCA0&uact=5]\n",
    "\n",
    "Marathon day:\n",
    "Time they took, age, gender, BMI and race training"
   ]
  }
 ],
 "metadata": {
  "kernelspec": {
   "display_name": "Python 3",
   "language": "python",
   "name": "python3"
  },
  "language_info": {
   "codemirror_mode": {
    "name": "ipython",
    "version": 3
   },
   "file_extension": ".py",
   "mimetype": "text/x-python",
   "name": "python",
   "nbconvert_exporter": "python",
   "pygments_lexer": "ipython3",
   "version": "3.8.3"
  }
 },
 "nbformat": 4,
 "nbformat_minor": 4
}

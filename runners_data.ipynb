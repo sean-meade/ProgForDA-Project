{
 "cells": [
  {
   "cell_type": "markdown",
   "metadata": {},
   "source": [
    "Simulating:\n",
    "- distance\n",
    "- time\n",
    "- average stride length\n",
    "- average pace\n",
    "\n",
    "Assumptions:\n",
    "- Runner is not injured during 100 runs\n",
    "- Runner may have to be a certain gender\n",
    "- No sprinting just a jog/easy run\n",
    "- running on a tread mill\n",
    "\n",
    "Research:\n",
    "**average stride length**\n",
    "limited by height [https://runnersconnect.net/improve-running-speed-step-frequency-and-step-length/]\n",
    "A stride incorporates two steps, the left and the right. Stride length is therefore actually double the step length (assuming the left step is more or less the same as the right step). In other words, stride length is the distance covered between initial contact (IC) of one foot and the consecutive IC of that same foot.\n",
    "\n",
    "On average, adults have a step length of about 2.2 to 2.5 feet. In general, if you divide a person's step length by their height, the ratio value you get is about 0.4 (with a range from about 0.41 to 0.45).[https://www.scientificamerican.com/article/bring-science-home-estimating-height-walk/#:~:text=On%20average%2C%20adults%20have%20a,from%20about%200.41%20to%200.45)]\n",
    "\n",
    "[15.full] Males were\n",
    "Hoffman (1965) and Hoffman (1967, cited in Hay\n",
    "1973) investigated the anthropometric dimensions of\n",
    "both female and male sprinters in relation to their SL\n",
    "and SR. She concluded that females sprinted with an SL\n",
    "equal to 1.15 times the height and 2.16 times the lower\n",
    "limb length (trochanterion) of the athlete.\n",
    "similar, recording SL of 1.14 times height and 2.11 times\n",
    "their trochanterion\n",
    "Another study by Rompotti (1967,\n",
    "cited in Hay, 1973) concluded that the normal full-speed\n",
    "running SL was 1.17 x height ± 4 inches.\n",
    "A further study by Hogberg (1952a) found SL to\n",
    "be dependent upon lower limb length up to velocities of\n",
    "7.5 m/s. Beyond this speed SR played a more dominant\n",
    "role except that subjects shorter in stature continued to\n",
    "increase SL despite a limb length of 4 cm less than a\n",
    "taller group. \n",
    "In view of Hoffman's (1965) results, further analysis\n",
    "is required to resolve the apparently conflicting viewpoints.\n",
    "A comparison of good and elite distance runners\n",
    "resulted in a correlation between SL and lower limb\n",
    "length of 0.67 for the elite group and -0.10 for the\n",
    "good runners when running at 4.97 m/s (Cavanagh et al,\n",
    "1977). Regardless of lower limb length, the good runners\n",
    "tended towards longer strides while the elite group used\n",
    "strides better related to their lower limb lengths.\n",
    "\n",
    "\n",
    "\n",
    "Speed= Stride length X Stride frequency[https://www.scienceofrunning.com/2010/11/speed-stride-length-x-stride-frequency.html?v=47e5dceea252]"
   ]
  }
 ],
 "metadata": {
  "kernelspec": {
   "display_name": "Python 3",
   "language": "python",
   "name": "python3"
  },
  "language_info": {
   "codemirror_mode": {
    "name": "ipython",
    "version": 3
   },
   "file_extension": ".py",
   "mimetype": "text/x-python",
   "name": "python",
   "nbconvert_exporter": "python",
   "pygments_lexer": "ipython3",
   "version": "3.8.3"
  }
 },
 "nbformat": 4,
 "nbformat_minor": 4
}

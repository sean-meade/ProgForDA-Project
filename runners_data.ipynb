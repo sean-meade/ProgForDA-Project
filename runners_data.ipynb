{
 "cells": [
  {
   "cell_type": "code",
   "execution_count": 1,
   "metadata": {},
   "outputs": [],
   "source": [
    "import numpy as np"
   ]
  },
  {
   "cell_type": "markdown",
   "metadata": {},
   "source": [
    "[https://bmcsportsscimedrehabil.biomedcentral.com/articles/10.1186/s13102-016-0052-y]\n",
    "[https://www.ncbi.nlm.nih.gov/pmc/articles/PMC7449326/]\n",
    "[https://rua.ua.es/dspace/bitstream/10045/18930/1/jhse_Vol_VI_N_III_511-520.pdf]\n",
    "[https://www.google.com/search?safe=active&rlz=1C1CHBF_enIE917IE917&sxsrf=ALeKk03Ylj7ATv-5NpVukDg9tv1VloAY-g%3A1608134608390&ei=0C_aX9SXF8XoxgPuq7WoAw&q=what+affects+a+marathon+time+a+study&oq=what+affects+a+marathon+time+a+study&gs_lcp=CgZwc3ktYWIQAzIFCCEQoAE6BAgAEEc6CAghEBYQHRAeUKGrBVilwAVghcMFaABwAngAgAFxiAG4BZIBAzYuMpgBAKABAaoBB2d3cy13aXrIAQjAAQE&sclient=psy-ab&ved=0ahUKEwjUv9Wg8NLtAhVFtHEKHe5VDTUQ4dUDCA0&uact=5]\n",
    "Marathon day:\n",
    "Time they took, age, gender, BMI and race training"
   ]
  },
  {
   "cell_type": "markdown",
   "metadata": {},
   "source": [
    "Intermediate 1 Marathon training.\n",
    "\n",
    "[tuesday, wednesday, thursday, saturday, sunday]\n",
    "saturday = marathon pace\n",
    "sunday = slow pace\n",
    "\n",
    "To do:\n",
    "- Choose the persons marathon pace\n",
    "- Choose height, gender and level of fitness\n",
    "- Average pace"
   ]
  },
  {
   "cell_type": "code",
   "execution_count": null,
   "metadata": {},
   "outputs": [],
   "source": [
    "\n",
    "\n",
    "distance = np.array([3, 5, 3, 5, 8]) # + variance + increase week on week\n",
    "time = np.array([depends on time]) # + variance\n",
    "pace = np.array([depends on time & distance]) \n",
    "avg_heart_rate = np.array([])"
   ]
  },
  {
   "cell_type": "code",
   "execution_count": null,
   "metadata": {},
   "outputs": [],
   "source": []
  }
 ],
 "metadata": {
  "kernelspec": {
   "display_name": "Python 3",
   "language": "python",
   "name": "python3"
  },
  "language_info": {
   "codemirror_mode": {
    "name": "ipython",
    "version": 3
   },
   "file_extension": ".py",
   "mimetype": "text/x-python",
   "name": "python",
   "nbconvert_exporter": "python",
   "pygments_lexer": "ipython3",
   "version": "3.8.3"
  }
 },
 "nbformat": 4,
 "nbformat_minor": 4
}

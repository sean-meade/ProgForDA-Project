{
 "cells": [
  {
   "cell_type": "code",
   "execution_count": 1,
   "metadata": {},
   "outputs": [],
   "source": [
    "import numpy as np\n",
    "import math"
   ]
  },
  {
   "cell_type": "markdown",
   "metadata": {},
   "source": [
    "# Simulating marathon training data\n",
    "\n",
    "### Introduction\n",
    "\n",
    "This is a report to understand and simulate factors that could possibly predict the time it takes a runner to complete a marathon. A marathon is about 42.2 km (about 26.2 miles). It has long been a challenge for humans to complete a marathon. The name Marathon comes from the legend of Philippides, the Greek messenger. As the story goes, he was sent to Athens to announce the defeat of the Persians after the Battle of Marathon (a battle he actually fought in). He ran the distance from Marathon to Athens from Marathon without stopping, burst into the assembly, exclaimed \"we have won!\", then keeled over and died (a little morbid history for you). [1]\n",
    "\n",
    "Marathon races are ancient but the distance wasn't set until the 20th Century, in Athens at the 1896 Olympics. This legend inspired the birth of this ludicrous endeavour and people have been training for marathons ever since. [2]\n",
    "\n",
    "It is still very hard to get an accurate prediction of a runners finishing time because of the sheer number of variables involved. However, from my research, a few attempts have been made to study this and to predict finishing times. \n",
    "\n",
    "### Method\n",
    "\n",
    "#### The different contributing factors\n",
    "\n",
    "There are many factors to be taken into consideration when it comes to predict race day performance. There are two main categories that are frequented when reading documentation on the subject.\n",
    "\n",
    "##### Training measurements\n",
    "\n",
    "The list is endless in terms of training measurements from number of runs per week to the VO2 max (the maximum amount of oxygen your body can utilize during exercise). Most studies tend to focus on the measurements that the average person could measure. These being the number of runs, the average mileage, the average pace and so on. It is also prudent to point out that VO2 could also be consider in our next category.\n",
    "\n",
    "\n",
    "##### Anthropometry measurements\n",
    "\n",
    "Again, the list is comprehensive. Anthropometry refers to the measurement of the human individual. So, length of limbs, diameter of muscles and like above VO2 max are some of many measurements to be considered.\n",
    "\n",
    "Like I mentioned above there are not a lot of studies done on the subject. I am interested in the correlation between training and performance as a goal of mine is to run a marathon and I have no control over my current anthropometry measurements (only by that of training can I change them) so I have decided to focus this analysis on the former group.\n",
    "\n",
    "### Variables\n",
    "\n",
    "#### Predictors\n",
    "\n",
    "The training measurements that appear most often are mean weekly distance ran and mean training pace. They appear in a study on *Prediction of marathon performance time on the basis of training indices* [3], Predictor Variables for Marathon Race Time in Recreational Female Runners [4], and *An empirical study of race times in recreational endurance runners* [5].\n",
    "\n",
    "Giovanni Tandas study on the *Prediction of marathon performance time on the basis of training indices* also shows that \n",
    "\n",
    "#### Outcomes\n",
    "\n",
    "The most interesting variable is the time taken to complete a marathon. This is also dependent on the pace a runner has throughout the race. \n",
    "\n",
    "All variables are non-negative real numbers.\n",
    "\n",
    "- Mean weekly distance is to one decimal place and is measured in kilometres per week (km/week).\n",
    "- Mean training pace and race pace is to one decimal place and is measured in seconds per kilometre (sec/kilometer).\n",
    "- Finishing times are whole numbers measured in minutes (min).\n",
    "\n",
    "The assumption of normality was met, as assessed by a Q-Q plot [6] for these (and other measurements).\n",
    "\n",
    "Therefore I can use the data from the tables in Giovanni Tandas [7] study and the `numpy.normal()` function to create average training pace and kilometres ran per week. Shown below in green is the standard deviation and the mean of both.\n",
    "\n",
    "![RUA Runner Data](imgs/rua_runner_data_2.png)"
   ]
  },
  {
   "cell_type": "code",
   "execution_count": 2,
   "metadata": {},
   "outputs": [],
   "source": [
    "#Set number of runners (the number of instances looked for)\n",
    "no_of_runners = 100\n",
    "\n",
    "# Set training pace data \n",
    "train_pace_mean = 284.6\n",
    "train_pace_std = 18.1\n",
    "P = np.random.normal(train_pace_mean, train_pace_std, no_of_runners)\n",
    "\n",
    "# Set kilometers per week data \n",
    "km_per_week_mean = 65.9\n",
    "km_per_week_std = 15.9\n",
    "K = np.random.normal(km_per_week_mean, km_per_week_std, no_of_runners)"
   ]
  },
  {
   "cell_type": "markdown",
   "metadata": {},
   "source": [
    "Tandas study lead to a formula that show a correlation between race day pace and the above parameters. Knowing that we can use the two random sets above to produce the paces of each runner: \n",
    "\n",
    "$$ P_m (sec/km) = 17.1 + 140.0\\exp{[-0.0053 \\cdot K(km/week)]} + 0.55 P (sec/km) $$\n",
    "\n",
    "Where:\n",
    "- P<sub>m</sub> = Pace for the marathon.\n",
    "- K = Average kilometres per week.\n",
    "- P = Average pace during training."
   ]
  },
  {
   "cell_type": "code",
   "execution_count": 3,
   "metadata": {},
   "outputs": [],
   "source": [
    "# Set empty list to hold set\n",
    "paces = []\n",
    "\n",
    "# loop over lists to produce each pace with the formula\n",
    "for i in range(0, len(K)):\n",
    "    pace = 17.1 + 140.0*np.exp(-0.0053*K[i]) + 0.55 * P[i]\n",
    "    paces.append(pace)"
   ]
  },
  {
   "cell_type": "markdown",
   "metadata": {},
   "source": [
    "Then use the distance of a marathon to calculate the time it took them in hours."
   ]
  },
  {
   "cell_type": "code",
   "execution_count": 4,
   "metadata": {},
   "outputs": [],
   "source": [
    "# marathon in km\n",
    "dist = 42.195\n",
    "\n",
    "#times = (42.195*np.array(paces))/3600\n",
    "times = (42.195*np.array(paces))/60"
   ]
  },
  {
   "cell_type": "markdown",
   "metadata": {},
   "source": [
    "Lastly display all the data and compare the standard deviation and mean of the finishing times."
   ]
  },
  {
   "cell_type": "code",
   "execution_count": 5,
   "metadata": {},
   "outputs": [
    {
     "name": "stdout",
     "output_type": "stream",
     "text": [
      "Training pace:  [276.73096996 296.49017434 299.82580707 289.9653323  287.89326155\n",
      " 267.20817996 309.78219931 305.2132722  277.07211851 312.67527518\n",
      " 306.0406637  314.62406223 271.13797168 288.41575292 298.85233649\n",
      " 267.94757115 285.82655419 304.78126848 279.11618488 298.73774027\n",
      " 278.63504465 261.58542649 284.11886141 333.93229813 246.98790731\n",
      " 292.99791574 276.01951954 260.47469207 256.68912881 275.10000132\n",
      " 321.84993076 293.69826031 274.43630652 332.24153705 275.16439154\n",
      " 270.4701763  276.29212274 298.97559073 261.66651444 301.68861478\n",
      " 295.16585588 248.75283759 297.88482745 283.32998765 281.81195236\n",
      " 286.6849828  293.14414272 325.80662454 267.17820658 283.61006077\n",
      " 293.16411993 304.3289055  275.92429694 277.69135559 303.37783246\n",
      " 285.22099221 284.96836719 266.16592014 302.3888691  285.53136631\n",
      " 293.3707696  291.31207629 282.32185465 295.25016239 265.71061276\n",
      " 273.54557323 276.52831502 277.25198314 291.14311131 316.30400469\n",
      " 278.8069189  277.88457198 308.97573701 283.40983535 273.1081851\n",
      " 288.46578028 279.87495458 265.29764828 266.65189128 294.98994623\n",
      " 277.80026439 285.76726492 309.91287462 283.96840328 295.37090305\n",
      " 276.03437196 307.77405681 295.88693454 266.18688031 282.52941751\n",
      " 301.12344478 297.09748057 270.33062934 297.05478293 282.2536339\n",
      " 246.44607887 296.31003571 309.43248921 290.64552836 311.68912028]\n"
     ]
    }
   ],
   "source": [
    "print(\"Training pace: \", P)"
   ]
  },
  {
   "cell_type": "code",
   "execution_count": 6,
   "metadata": {},
   "outputs": [
    {
     "name": "stdout",
     "output_type": "stream",
     "text": [
      "Kilometers per week:  [83.47401728 67.73177918 58.91555554 58.5447355  51.57094848 28.95849342\n",
      " 65.7857443  75.06503688 36.72264746 76.12548189 74.46156385 68.20728953\n",
      " 54.24624354 74.72954369 93.17293219 60.64504929 40.280078   69.12598056\n",
      " 92.59184729 86.99689797 53.04964947 69.51759977 41.83100808 69.82943393\n",
      " 85.94197926 75.41576383 81.88096319 79.10253572 54.14745104 44.84681337\n",
      " 43.73188154 74.85927831 48.10323054 55.89299395 61.66703681 62.32581892\n",
      " 50.16301953 81.45460276 73.93493025 70.10799454 81.86766261 93.03814545\n",
      " 55.87316243 32.39925861 77.31826736 77.53509223 66.12157681 59.44274142\n",
      " 25.41212491 88.83916325 49.8855618  94.6504365  68.00035372 88.14648093\n",
      " 80.04793828 48.37273426 87.46919654 89.4471776  56.11285639 62.11179983\n",
      " 81.5771487  83.12320929 80.67277764 58.77076985 95.0876438  69.74782399\n",
      " 70.25361505 76.5479932  66.27969347 55.55511932 48.43565792 83.60794637\n",
      " 64.72836556 42.61338345 79.64647198 52.82356536 16.00552737 68.95210987\n",
      " 62.17510922 82.15351598 72.96742253 81.61015766 55.29857928 88.86370082\n",
      " 75.72489225 37.44358344 81.61475668 70.92332261 53.40279466 52.23381857\n",
      " 51.45516632 69.63484424 82.00112639 83.24778237 77.79893561 69.09188269\n",
      " 61.62967971 45.65104376 45.65534514 62.15698946]\n"
     ]
    }
   ],
   "source": [
    "print(\"Kilometers per week: \", K)"
   ]
  },
  {
   "cell_type": "code",
   "execution_count": 7,
   "metadata": {},
   "outputs": [
    {
     "name": "stdout",
     "output_type": "stream",
     "text": [
      "Race day average pace:  [259.2498900524025, 277.94411408494904, 284.4557412586908, 279.23403088910334, 281.9595506347464, 284.1450057350851, 286.2683911878078, 279.0145884177199, 284.72914439479916, 282.5915931962969, 279.77093681186926, 287.67165085167005, 271.24446914687746, 269.94332836743996, 266.9097682172867, 265.9878990951398, 287.3916698522428, 281.7843965556333, 256.3184273084195, 269.6897547308656, 276.0359981563629, 257.82544740549645, 285.52668117740643, 297.4562872547369, 241.7223309962124, 272.12148467848914, 259.62125397816027, 252.41725515545718, 263.35260772133574, 278.7877993022407, 305.1544587338683, 272.78394831054754, 276.53401510913136, 303.93883952708404, 269.40876798389877, 266.47502877053284, 276.37673897718986, 272.45230439612885, 255.62886435436866, 279.57961120330253, 270.15813365682163, 239.41610208192944, 285.053592097051, 290.8420509681152, 265.027417985312, 267.6008525574397, 276.9417821550236, 298.4593320642964, 286.40686849463066, 260.51172017697945, 285.81426458785097, 269.2554250809766, 266.4938038634135, 257.5779826512378, 275.553876289458, 282.310733250194, 261.8958849420912, 250.6361674819086, 287.39863111895875, 274.87287736185186, 269.3106227752001, 267.436892561605, 263.67025621342935, 282.0177845052157, 247.8191520668381, 264.2854207123513, 265.6669582079993, 262.89959618402537, 275.7586104108419, 295.359790053644, 278.7468683382393, 259.8205466565805, 286.38001066786, 284.6725928792273, 259.10067322626463, 281.56961732552264, 299.6448979513525, 260.1578839903971, 264.45537263243205, 269.92404921128383, 264.9888248289737, 265.1128014410225, 291.986567649723, 260.6974396004615, 273.27295452014044, 283.7188984382053, 277.214322777721, 275.9723678506123, 268.9918821484862, 278.6358718396205, 289.30153591462704, 277.2969115192078, 256.4346124142555, 270.5359034018171, 265.0338989293868, 249.71758345645094, 281.0588652440042, 297.2011709847078, 286.86583682347805, 289.2355194437621]\n"
     ]
    }
   ],
   "source": [
    "print(\"Race day average pace: \", paces)"
   ]
  },
  {
   "cell_type": "code",
   "execution_count": 8,
   "metadata": {},
   "outputs": [
    {
     "name": "stdout",
     "output_type": "stream",
     "text": [
      "Race day times:  [182.31748518 195.46419823 200.04350004 196.37133222 198.28805398\n",
      " 199.82497528 201.3182461  196.2170093  200.2357708  198.73253792\n",
      " 196.74891131 202.30508846 190.75267293 189.83764567 187.7042945\n",
      " 187.05599004 202.10819182 198.16487688 180.255934   189.65932001\n",
      " 194.1223157  181.31574589 200.79663854 209.18613401 169.99122927\n",
      " 191.3694341  182.57864686 177.51243469 185.20272138 196.05751986\n",
      " 214.5998731  191.83531165 194.47254613 213.7449889  189.46171608\n",
      " 187.39856398 194.36194169 191.60208307 179.77099886 196.61436158\n",
      " 189.98870749 168.36937379 200.46393864 204.53467234 186.3805317\n",
      " 188.19029956 194.7593083  209.89152527 201.41563027 183.20486721\n",
      " 200.99888157 189.35387769 187.41176757 181.1417163  193.7832635\n",
      " 198.53502316 184.17828109 176.25988478 202.11308733 193.304351\n",
      " 189.39269547 188.07499469 185.42610768 198.32900695 174.27881869\n",
      " 185.85872212 186.83028836 184.88414102 193.92724277 207.71177236\n",
      " 196.02873516 182.71879944 201.3967425  200.19600094 182.21254845\n",
      " 198.01383338 210.72527448 182.95603192 185.9782408  189.82408761\n",
      " 186.35339106 186.44057761 205.3395537  183.3354744  192.17920527\n",
      " 199.52531533 194.95097249 194.07756769 189.16854112 195.95067687\n",
      " 203.45130513 195.00905303 180.33764118 190.25437407 186.38508942\n",
      " 175.61389057 197.65464698 209.00672349 201.73839975 203.40487905]\n"
     ]
    }
   ],
   "source": [
    "print(\"Race day times: \", times)"
   ]
  },
  {
   "cell_type": "code",
   "execution_count": 9,
   "metadata": {},
   "outputs": [
    {
     "name": "stdout",
     "output_type": "stream",
     "text": [
      "Simulated finishing times mean and standard deviation:\n",
      "Mean:  192.6462159160105\n",
      "Standard deviation:  9.30531865878367\n"
     ]
    }
   ],
   "source": [
    "print(\"Simulated finishing times mean and standard deviation:\")\n",
    "print(\"Mean: \", np.mean(times))\n",
    "print(\"Standard deviation: \", np.std(times))"
   ]
  },
  {
   "cell_type": "markdown",
   "metadata": {},
   "source": [
    "The expected results are a mean of 271.8 sec/km and standard deviation of 17.7 sec/km."
   ]
  },
  {
   "cell_type": "markdown",
   "metadata": {},
   "source": [
    "### References\n",
    "\n",
    "[1] Wikipedia, \"Marathon\", https://en.wikipedia.org/wiki/Marathon#Origin\n",
    "\n",
    "[2] Elizabeth Nix, \"Why is a marathon 26.2 miles?\", https://www.history.com/news/why-is-a-marathon-26-2-miles#:~:text=The%20idea%20for%20the%20modern,After%20making%20his%20announcement%2C%20the\n",
    "\n",
    "[3] Giovanni Tanda, \"Prediction of marathon performance time on the basis of training indices\", https://www.researchgate.net/publication/262686102_Prediction_of_marathon_performance_time_on_the_basis_of_training_indices\n",
    "\n",
    "[4] Wiebke Schmid et al., \"Predictor Variables for Marathon Race Time in Recreational Female Runners\", https://www.ncbi.nlm.nih.gov/pmc/articles/PMC3426727/\n",
    "\n",
    "[5] Andrew J. Vickers & Emily A. Vertosick , \"An empirical study of race times in recreational endurance runners\", https://bmcsportsscimedrehabil.biomedcentral.com/articles/10.1186/s13102-016-0052-y\n",
    "\n",
    "[6] Alison Keogh et al., \"The Determinants of Marathon Performance: An Observational Analysis of Anthropometric, Pre-race and In-race Variables\", https://www.ncbi.nlm.nih.gov/pmc/articles/PMC7449326/#b19-ijes-13-6-1132%5D\n",
    "\n",
    "[7] Giovanni Tanda, \"Prediction of marathon performance time on the\n",
    "basis of training indices\", https://rua.ua.es/dspace/bitstream/10045/18930/1/jhse_Vol_VI_N_III_511-520.pdf\n"
   ]
  }
 ],
 "metadata": {
  "kernelspec": {
   "display_name": "Python 3",
   "language": "python",
   "name": "python3"
  },
  "language_info": {
   "codemirror_mode": {
    "name": "ipython",
    "version": 3
   },
   "file_extension": ".py",
   "mimetype": "text/x-python",
   "name": "python",
   "nbconvert_exporter": "python",
   "pygments_lexer": "ipython3",
   "version": "3.8.3"
  }
 },
 "nbformat": 4,
 "nbformat_minor": 4
}

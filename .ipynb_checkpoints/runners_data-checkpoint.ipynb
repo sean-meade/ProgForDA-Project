{
 "cells": [
  {
   "cell_type": "code",
   "execution_count": 1,
   "metadata": {},
   "outputs": [],
   "source": [
    "import numpy as np"
   ]
  },
  {
   "cell_type": "markdown",
   "metadata": {},
   "source": [
    "[https://bmcsportsscimedrehabil.biomedcentral.com/articles/10.1186/s13102-016-0052-y]\n",
    "[https://www.ncbi.nlm.nih.gov/pmc/articles/PMC7449326/]\n",
    "[https://rua.ua.es/dspace/bitstream/10045/18930/1/jhse_Vol_VI_N_III_511-520.pdf]\n",
    "[https://www.google.com/search?safe=active&rlz=1C1CHBF_enIE917IE917&sxsrf=ALeKk03Ylj7ATv-5NpVukDg9tv1VloAY-g%3A1608134608390&ei=0C_aX9SXF8XoxgPuq7WoAw&q=what+affects+a+marathon+time+a+study&oq=what+affects+a+marathon+time+a+study&gs_lcp=CgZwc3ktYWIQAzIFCCEQoAE6BAgAEEc6CAghEBYQHRAeUKGrBVilwAVghcMFaABwAngAgAFxiAG4BZIBAzYuMpgBAKABAaoBB2d3cy13aXrIAQjAAQE&sclient=psy-ab&ved=0ahUKEwjUv9Wg8NLtAhVFtHEKHe5VDTUQ4dUDCA0&uact=5]\n",
    "\n",
    "Marathon day:\n",
    "Time they took, age, gender, BMI and race training"
   ]
  },
  {
   "cell_type": "markdown",
   "metadata": {},
   "source": [
    "Intermediate 1 Marathon training.\n",
    "\n",
    "[tuesday, wednesday, thursday, saturday, sunday]\n",
    "saturday = marathon pace\n",
    "sunday = slow pace\n",
    "\n",
    "To do:\n",
    "- Choose the persons marathon pace\n",
    "- Choose height, gender and level of fitness\n",
    "- Average pace"
   ]
  },
  {
   "cell_type": "code",
   "execution_count": null,
   "metadata": {},
   "outputs": [],
   "source": [
    "\n",
    "\n",
    "distance = np.array([3, 5, 3, 5, 8]) # + variance + increase week on week\n",
    "time = np.array([depends on time]) # + variance\n",
    "pace = np.array([depends on time & distance]) \n",
    "avg_heart_rate = np.array([])"
   ]
  },
  {
   "cell_type": "markdown",
   "metadata": {},
   "source": [
    "![NCBI Runner Data](imgs/ncbi-runner-data.png)\n",
    "\n",
    "[https://www.ncbi.nlm.nih.gov/pmc/articles/PMC7449326/#b19-ijes-13-6-1132]"
   ]
  },
  {
   "cell_type": "code",
   "execution_count": null,
   "metadata": {},
   "outputs": [],
   "source": [
    "# 200 runners\n",
    "\n",
    "# kg/m2\n",
    "ncbi_N = [4.1, 7.2, 0, 46]\n",
    "ncbi_N_mean = 4.1\n",
    "ncbi_N_std = 7.2\n",
    "ncbi_N_min = 0\n",
    "ncbi_N_max = 46\n",
    "\n",
    "# kg/m2\n",
    "ncbi_BMI = [24.3, 3.3, 17.5, 36.9]\n",
    "ncbi_BMI_mean = 24.3\n",
    "ncbi_BMI_std = 3.3\n",
    "ncbi_BMI_min = 17.5\n",
    "ncbi_BMI_max = 36.9\n",
    "\n",
    "# in years\n",
    "ncbi_age = [40, 10, 19, 75]\n",
    "ncbi_age_mean = 40\n",
    "ncbi_age_std = 10\n",
    "ncbi_age_min = 19\n",
    "ncbi_age_max = 75\n",
    "\n",
    "# in m\n",
    "ncbi_height = [1.7, 0.1, 1.4, 1.9]\n",
    "ncbi_height_mean = 1.7\n",
    "ncbi_height_std = 0.1\n",
    "ncbi_height_min = 1.4\n",
    "ncbi_height_max = 1.9\n",
    "\n",
    "# in kg \n",
    "ncbi_weight = [72, 11, 45, 108]\n",
    "ncbi_weight_mean = 72\n",
    "ncbi_weight_std = 11\n",
    "ncbi_weight_min = 45\n",
    "ncbi_weight_max = 108\n",
    "\n",
    "# in min\n",
    "ncbi_finishing_time = [259, 51, 169, 427]\n",
    "ncbi_finishing_time_mean = 259\n",
    "ncbi_finishing_time_std = 51\n",
    "ncbi_finishing_time_min = 169\n",
    "ncbi_finishing_time_max = 427"
   ]
  },
  {
   "cell_type": "markdown",
   "metadata": {},
   "source": [
    "![RUA Runner Data](imgs/rua_runner_data_1.png)\n",
    "\n",
    "![RUA Runner Data](imgs/rua_runner_data_2.png)\n",
    "\n",
    "[https://rua.ua.es/dspace/bitstream/10045/18930/1/jhse_Vol_VI_N_III_511-520.pdf]"
   ]
  },
  {
   "cell_type": "code",
   "execution_count": null,
   "metadata": {},
   "outputs": [],
   "source": [
    "# 22 runners\n",
    "\n",
    "# kg/m2\n",
    "rua_N = [7.6, 6.3, 0, 22]\n",
    "rua_N_mean = 7.6\n",
    "rua_N_std = 6.3\n",
    "rua_N_min = 0\n",
    "rua_N_max = 22\n",
    "\n",
    "# kg/m2\n",
    "rua_BMI = [21.7, 1.3, 19.2, 24.7]\n",
    "rua_BMI_mean = 21.7\n",
    "rua_BMI_std = 1.3\n",
    "rua_BMI_min = 19.2\n",
    "rua_BMI_max = 24.7\n",
    "\n",
    "# in years\n",
    "rua_age = [42.8, 6.7, 28, 54]\n",
    "rua_age_mean = 42.8\n",
    "rua_age_std = 6.7\n",
    "rua_age_min = 28\n",
    "rua_age_max = 54\n",
    "\n",
    "# in cm\n",
    "rua_height = [173, 6.4, 155, 185]\n",
    "rua_height_mean = 173\n",
    "rua_height_std = 6.4\n",
    "rua_height_min = 155\n",
    "rua_height_max = 185\n",
    "\n",
    "# in kg \n",
    "rua_weight = [65.5, 6.5, 53.5, 79]\n",
    "rua_weight_mean = 65.5\n",
    "rua_weight_std = 6.5\n",
    "rua_weight_min = 53.5\n",
    "rua_weight_max = 79\n",
    "\n",
    "# in min\n",
    "rua_finishing_time = [191, 12, 167, 216]\n",
    "rua_finishing_time_mean = 191\n",
    "rua_finishing_time_std = 12\n",
    "rua_finishing_time_min = 167\n",
    "rua_finishing_time_max = 216"
   ]
  }
 ],
 "metadata": {
  "kernelspec": {
   "display_name": "Python 3",
   "language": "python",
   "name": "python3"
  },
  "language_info": {
   "codemirror_mode": {
    "name": "ipython",
    "version": 3
   },
   "file_extension": ".py",
   "mimetype": "text/x-python",
   "name": "python",
   "nbconvert_exporter": "python",
   "pygments_lexer": "ipython3",
   "version": "3.8.3"
  }
 },
 "nbformat": 4,
 "nbformat_minor": 4
}
